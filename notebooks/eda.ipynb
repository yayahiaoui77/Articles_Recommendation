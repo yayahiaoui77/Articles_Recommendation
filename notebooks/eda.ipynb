{
 "cells": [
  {
   "cell_type": "code",
   "execution_count": 8,
   "metadata": {},
   "outputs": [
    {
     "data": {
      "text/html": [
       "<div>\n",
       "<style scoped>\n",
       "    .dataframe tbody tr th:only-of-type {\n",
       "        vertical-align: middle;\n",
       "    }\n",
       "\n",
       "    .dataframe tbody tr th {\n",
       "        vertical-align: top;\n",
       "    }\n",
       "\n",
       "    .dataframe thead th {\n",
       "        text-align: right;\n",
       "    }\n",
       "</style>\n",
       "<table border=\"1\" class=\"dataframe\">\n",
       "  <thead>\n",
       "    <tr style=\"text-align: right;\">\n",
       "      <th></th>\n",
       "      <th>title</th>\n",
       "      <th>text</th>\n",
       "      <th>url</th>\n",
       "      <th>authors</th>\n",
       "      <th>timestamp</th>\n",
       "      <th>tags</th>\n",
       "      <th>primary_tag</th>\n",
       "    </tr>\n",
       "  </thead>\n",
       "  <tbody>\n",
       "    <tr>\n",
       "      <th>0</th>\n",
       "      <td>Introduction to music information retrieval wi...</td>\n",
       "      <td>In this article, I am going to illustrate some...</td>\n",
       "      <td>https://towardsdatascience.com/introduction-to...</td>\n",
       "      <td>['Jean-Michel D']</td>\n",
       "      <td>2020-02-10 16:54:41.694000+00:00</td>\n",
       "      <td>['Signal Processing', 'Music', 'Data', 'Datavi...</td>\n",
       "      <td>['Signal Processing', 'Music', 'Data', 'Datavi...</td>\n",
       "    </tr>\n",
       "    <tr>\n",
       "      <th>1</th>\n",
       "      <td>Pregnancy, the beautiful journey of carrying a...</td>\n",
       "      <td>Pregnancy, the beautiful journey of carrying a...</td>\n",
       "      <td>https://medium.com/@erikacasillas/pregnancy-th...</td>\n",
       "      <td>['Erika Casillas']</td>\n",
       "      <td>2021-03-19 04:57:16.721000+00:00</td>\n",
       "      <td>['Preggers', 'Baby', 'Pregnancy', 'Pregnant', ...</td>\n",
       "      <td>['Preggers', 'Baby', 'Pregnancy', 'Pregnant', ...</td>\n",
       "    </tr>\n",
       "    <tr>\n",
       "      <th>2</th>\n",
       "      <td>How Twitter does Automated Testing</td>\n",
       "      <td>It was 8:00 AM and I entered the Zoom call. Ka...</td>\n",
       "      <td>https://medium.com/@MHendersog/how-twitter-doe...</td>\n",
       "      <td>['Mark Hendersog']</td>\n",
       "      <td>2021-08-19 12:39:09.647000+00:00</td>\n",
       "      <td>['Web Development', 'Software Testing', 'Softw...</td>\n",
       "      <td>['Web Development', 'Software Testing', 'Softw...</td>\n",
       "    </tr>\n",
       "    <tr>\n",
       "      <th>3</th>\n",
       "      <td>Biden and de world</td>\n",
       "      <td>Biden and de world\\r\\n\\r\\nA leader chosen to e...</td>\n",
       "      <td>https://medium.com/@ishkurpoet/biden-and-de-wo...</td>\n",
       "      <td>['Dingir Ishkur']</td>\n",
       "      <td>2021-09-14 11:55:25.912000+00:00</td>\n",
       "      <td>['Biden', 'Putin', 'Trump', 'Kamala Harris', '...</td>\n",
       "      <td>['Biden', 'Putin', 'Trump', 'Kamala Harris', '...</td>\n",
       "    </tr>\n",
       "    <tr>\n",
       "      <th>4</th>\n",
       "      <td>What does it feel like to spend Christmas alone?</td>\n",
       "      <td>Image by Gerd Altmann from Pixabay\\r\\n\\r\\nOver...</td>\n",
       "      <td>https://medium.com/@togetherwewillrise/what-do...</td>\n",
       "      <td>['Together We Will Rise']</td>\n",
       "      <td>2020-12-23 14:28:40.669000+00:00</td>\n",
       "      <td>['Perception', 'Christmas', 'Alone', 'Home', '...</td>\n",
       "      <td>['Perception', 'Christmas', 'Alone', 'Home', '...</td>\n",
       "    </tr>\n",
       "  </tbody>\n",
       "</table>\n",
       "</div>"
      ],
      "text/plain": [
       "                                               title  \\\n",
       "0  Introduction to music information retrieval wi...   \n",
       "1  Pregnancy, the beautiful journey of carrying a...   \n",
       "2                 How Twitter does Automated Testing   \n",
       "3                                 Biden and de world   \n",
       "4   What does it feel like to spend Christmas alone?   \n",
       "\n",
       "                                                text  \\\n",
       "0  In this article, I am going to illustrate some...   \n",
       "1  Pregnancy, the beautiful journey of carrying a...   \n",
       "2  It was 8:00 AM and I entered the Zoom call. Ka...   \n",
       "3  Biden and de world\\r\\n\\r\\nA leader chosen to e...   \n",
       "4  Image by Gerd Altmann from Pixabay\\r\\n\\r\\nOver...   \n",
       "\n",
       "                                                 url  \\\n",
       "0  https://towardsdatascience.com/introduction-to...   \n",
       "1  https://medium.com/@erikacasillas/pregnancy-th...   \n",
       "2  https://medium.com/@MHendersog/how-twitter-doe...   \n",
       "3  https://medium.com/@ishkurpoet/biden-and-de-wo...   \n",
       "4  https://medium.com/@togetherwewillrise/what-do...   \n",
       "\n",
       "                     authors                         timestamp  \\\n",
       "0          ['Jean-Michel D']  2020-02-10 16:54:41.694000+00:00   \n",
       "1         ['Erika Casillas']  2021-03-19 04:57:16.721000+00:00   \n",
       "2         ['Mark Hendersog']  2021-08-19 12:39:09.647000+00:00   \n",
       "3          ['Dingir Ishkur']  2021-09-14 11:55:25.912000+00:00   \n",
       "4  ['Together We Will Rise']  2020-12-23 14:28:40.669000+00:00   \n",
       "\n",
       "                                                tags  \\\n",
       "0  ['Signal Processing', 'Music', 'Data', 'Datavi...   \n",
       "1  ['Preggers', 'Baby', 'Pregnancy', 'Pregnant', ...   \n",
       "2  ['Web Development', 'Software Testing', 'Softw...   \n",
       "3  ['Biden', 'Putin', 'Trump', 'Kamala Harris', '...   \n",
       "4  ['Perception', 'Christmas', 'Alone', 'Home', '...   \n",
       "\n",
       "                                         primary_tag  \n",
       "0  ['Signal Processing', 'Music', 'Data', 'Datavi...  \n",
       "1  ['Preggers', 'Baby', 'Pregnancy', 'Pregnant', ...  \n",
       "2  ['Web Development', 'Software Testing', 'Softw...  \n",
       "3  ['Biden', 'Putin', 'Trump', 'Kamala Harris', '...  \n",
       "4  ['Perception', 'Christmas', 'Alone', 'Home', '...  "
      ]
     },
     "execution_count": 8,
     "metadata": {},
     "output_type": "execute_result"
    }
   ],
   "source": [
    "import pandas as pd\n",
    "df = pd.read_csv('../data/articles_dataset.csv')\n",
    "df.head()"
   ]
  },
  {
   "cell_type": "code",
   "execution_count": 9,
   "metadata": {},
   "outputs": [],
   "source": [
    "df=df.drop(columns=['timestamp'])\n",
    "df=df.drop(columns=['url'])\n",
    "df=df.drop(columns=['primary_tag'])"
   ]
  },
  {
   "cell_type": "code",
   "execution_count": 10,
   "metadata": {},
   "outputs": [
    {
     "data": {
      "text/html": [
       "<div>\n",
       "<style scoped>\n",
       "    .dataframe tbody tr th:only-of-type {\n",
       "        vertical-align: middle;\n",
       "    }\n",
       "\n",
       "    .dataframe tbody tr th {\n",
       "        vertical-align: top;\n",
       "    }\n",
       "\n",
       "    .dataframe thead th {\n",
       "        text-align: right;\n",
       "    }\n",
       "</style>\n",
       "<table border=\"1\" class=\"dataframe\">\n",
       "  <thead>\n",
       "    <tr style=\"text-align: right;\">\n",
       "      <th></th>\n",
       "      <th>title</th>\n",
       "      <th>text</th>\n",
       "      <th>authors</th>\n",
       "      <th>tags</th>\n",
       "    </tr>\n",
       "  </thead>\n",
       "  <tbody>\n",
       "    <tr>\n",
       "      <th>0</th>\n",
       "      <td>Introduction to music information retrieval wi...</td>\n",
       "      <td>In this article, I am going to illustrate some...</td>\n",
       "      <td>['Jean-Michel D']</td>\n",
       "      <td>['Signal Processing', 'Music', 'Data', 'Datavi...</td>\n",
       "    </tr>\n",
       "    <tr>\n",
       "      <th>1</th>\n",
       "      <td>Pregnancy, the beautiful journey of carrying a...</td>\n",
       "      <td>Pregnancy, the beautiful journey of carrying a...</td>\n",
       "      <td>['Erika Casillas']</td>\n",
       "      <td>['Preggers', 'Baby', 'Pregnancy', 'Pregnant', ...</td>\n",
       "    </tr>\n",
       "    <tr>\n",
       "      <th>2</th>\n",
       "      <td>How Twitter does Automated Testing</td>\n",
       "      <td>It was 8:00 AM and I entered the Zoom call. Ka...</td>\n",
       "      <td>['Mark Hendersog']</td>\n",
       "      <td>['Web Development', 'Software Testing', 'Softw...</td>\n",
       "    </tr>\n",
       "    <tr>\n",
       "      <th>3</th>\n",
       "      <td>Biden and de world</td>\n",
       "      <td>Biden and de world\\r\\n\\r\\nA leader chosen to e...</td>\n",
       "      <td>['Dingir Ishkur']</td>\n",
       "      <td>['Biden', 'Putin', 'Trump', 'Kamala Harris', '...</td>\n",
       "    </tr>\n",
       "    <tr>\n",
       "      <th>4</th>\n",
       "      <td>What does it feel like to spend Christmas alone?</td>\n",
       "      <td>Image by Gerd Altmann from Pixabay\\r\\n\\r\\nOver...</td>\n",
       "      <td>['Together We Will Rise']</td>\n",
       "      <td>['Perception', 'Christmas', 'Alone', 'Home', '...</td>\n",
       "    </tr>\n",
       "  </tbody>\n",
       "</table>\n",
       "</div>"
      ],
      "text/plain": [
       "                                               title  \\\n",
       "0  Introduction to music information retrieval wi...   \n",
       "1  Pregnancy, the beautiful journey of carrying a...   \n",
       "2                 How Twitter does Automated Testing   \n",
       "3                                 Biden and de world   \n",
       "4   What does it feel like to spend Christmas alone?   \n",
       "\n",
       "                                                text  \\\n",
       "0  In this article, I am going to illustrate some...   \n",
       "1  Pregnancy, the beautiful journey of carrying a...   \n",
       "2  It was 8:00 AM and I entered the Zoom call. Ka...   \n",
       "3  Biden and de world\\r\\n\\r\\nA leader chosen to e...   \n",
       "4  Image by Gerd Altmann from Pixabay\\r\\n\\r\\nOver...   \n",
       "\n",
       "                     authors  \\\n",
       "0          ['Jean-Michel D']   \n",
       "1         ['Erika Casillas']   \n",
       "2         ['Mark Hendersog']   \n",
       "3          ['Dingir Ishkur']   \n",
       "4  ['Together We Will Rise']   \n",
       "\n",
       "                                                tags  \n",
       "0  ['Signal Processing', 'Music', 'Data', 'Datavi...  \n",
       "1  ['Preggers', 'Baby', 'Pregnancy', 'Pregnant', ...  \n",
       "2  ['Web Development', 'Software Testing', 'Softw...  \n",
       "3  ['Biden', 'Putin', 'Trump', 'Kamala Harris', '...  \n",
       "4  ['Perception', 'Christmas', 'Alone', 'Home', '...  "
      ]
     },
     "execution_count": 10,
     "metadata": {},
     "output_type": "execute_result"
    }
   ],
   "source": [
    "df.head()"
   ]
  },
  {
   "cell_type": "code",
   "execution_count": 11,
   "metadata": {},
   "outputs": [
    {
     "name": "stdout",
     "output_type": "stream",
     "text": [
      "tags\n",
      "['Ui Ux Design']                                                                        3\n",
      "['TV Series', 'Startup', 'TV Shows', 'Reality']                                         2\n",
      "['Esports']                                                                             2\n",
      "['Gambling']                                                                            2\n",
      "['Cities']                                                                              2\n",
      "                                                                                       ..\n",
      "['Gardening', 'Plants', 'Garden Tips', 'Garden', 'Herbs']                               1\n",
      "['Inner Child', 'Self Care', 'Re Parenting', 'Self Love', 'Self Care And Self Love']    1\n",
      "['Horror', 'Prophecy', 'History', 'Fascism', 'Bible']                                   1\n",
      "['Writing', 'Healing', 'Change', 'Creative Writing', 'Creativity']                      1\n",
      "['Biden', 'Putin', 'Trump', 'Kamala Harris', 'USA']                                     1\n",
      "Name: count, Length: 3831, dtype: int64\n"
     ]
    }
   ],
   "source": [
    "print(df['tags'].value_counts())  \n"
   ]
  },
  {
   "cell_type": "code",
   "execution_count": 12,
   "metadata": {},
   "outputs": [
    {
     "data": {
      "application/vnd.plotly.v1+json": {
       "config": {
        "plotlyServerURL": "https://plot.ly"
       },
       "data": [
        {
         "alignmentgroup": "True",
         "hovertemplate": "x=%{x}<br>y=%{y}<extra></extra>",
         "legendgroup": "",
         "marker": {
          "color": "#636efa",
          "pattern": {
           "shape": ""
          }
         },
         "name": "",
         "offsetgroup": "",
         "orientation": "v",
         "showlegend": false,
         "textposition": "auto",
         "type": "bar",
         "x": [
          "Blockchain",
          "Data Science",
          "Technology",
          "Programming",
          "Poetry",
          "Politics",
          "Bitcoin",
          "Machine Learning",
          "Cryptocurrency",
          "Writing",
          "Startup",
          "Life",
          "Covid 19",
          "Life Lessons",
          "Python",
          "Software Development",
          "Self Improvement",
          "Love",
          "Business",
          "JavaScript",
          "Culture",
          "Design",
          "Artificial Intelligence",
          "Relationships",
          "Web Development",
          "Health",
          "Self",
          "Mental Health",
          "Entrepreneurship",
          "Education",
          "Ethereum",
          "Marketing",
          "History",
          "Social Media",
          "Music",
          "Creativity",
          "Humor",
          "Psychology",
          "Travel",
          "Productivity",
          "Parenting",
          "Science",
          "UX",
          "Fiction",
          "Coronavirus",
          "Data Visualization",
          "Digital Marketing",
          "Art",
          "Work",
          "Family"
         ],
         "xaxis": "x",
         "y": [
          140,
          138,
          136,
          134,
          129,
          127,
          120,
          114,
          113,
          110,
          106,
          99,
          96,
          92,
          88,
          84,
          84,
          82,
          80,
          75,
          74,
          72,
          67,
          67,
          65,
          61,
          60,
          58,
          55,
          54,
          53,
          53,
          49,
          48,
          47,
          46,
          46,
          44,
          43,
          43,
          40,
          40,
          40,
          38,
          38,
          38,
          37,
          36,
          36,
          35
         ],
         "yaxis": "y"
        }
       ],
       "layout": {
        "barmode": "relative",
        "legend": {
         "tracegroupgap": 0
        },
        "margin": {
         "t": 60
        },
        "template": {
         "data": {
          "bar": [
           {
            "error_x": {
             "color": "#2a3f5f"
            },
            "error_y": {
             "color": "#2a3f5f"
            },
            "marker": {
             "line": {
              "color": "#E5ECF6",
              "width": 0.5
             },
             "pattern": {
              "fillmode": "overlay",
              "size": 10,
              "solidity": 0.2
             }
            },
            "type": "bar"
           }
          ],
          "barpolar": [
           {
            "marker": {
             "line": {
              "color": "#E5ECF6",
              "width": 0.5
             },
             "pattern": {
              "fillmode": "overlay",
              "size": 10,
              "solidity": 0.2
             }
            },
            "type": "barpolar"
           }
          ],
          "carpet": [
           {
            "aaxis": {
             "endlinecolor": "#2a3f5f",
             "gridcolor": "white",
             "linecolor": "white",
             "minorgridcolor": "white",
             "startlinecolor": "#2a3f5f"
            },
            "baxis": {
             "endlinecolor": "#2a3f5f",
             "gridcolor": "white",
             "linecolor": "white",
             "minorgridcolor": "white",
             "startlinecolor": "#2a3f5f"
            },
            "type": "carpet"
           }
          ],
          "choropleth": [
           {
            "colorbar": {
             "outlinewidth": 0,
             "ticks": ""
            },
            "type": "choropleth"
           }
          ],
          "contour": [
           {
            "colorbar": {
             "outlinewidth": 0,
             "ticks": ""
            },
            "colorscale": [
             [
              0,
              "#0d0887"
             ],
             [
              0.1111111111111111,
              "#46039f"
             ],
             [
              0.2222222222222222,
              "#7201a8"
             ],
             [
              0.3333333333333333,
              "#9c179e"
             ],
             [
              0.4444444444444444,
              "#bd3786"
             ],
             [
              0.5555555555555556,
              "#d8576b"
             ],
             [
              0.6666666666666666,
              "#ed7953"
             ],
             [
              0.7777777777777778,
              "#fb9f3a"
             ],
             [
              0.8888888888888888,
              "#fdca26"
             ],
             [
              1,
              "#f0f921"
             ]
            ],
            "type": "contour"
           }
          ],
          "contourcarpet": [
           {
            "colorbar": {
             "outlinewidth": 0,
             "ticks": ""
            },
            "type": "contourcarpet"
           }
          ],
          "heatmap": [
           {
            "colorbar": {
             "outlinewidth": 0,
             "ticks": ""
            },
            "colorscale": [
             [
              0,
              "#0d0887"
             ],
             [
              0.1111111111111111,
              "#46039f"
             ],
             [
              0.2222222222222222,
              "#7201a8"
             ],
             [
              0.3333333333333333,
              "#9c179e"
             ],
             [
              0.4444444444444444,
              "#bd3786"
             ],
             [
              0.5555555555555556,
              "#d8576b"
             ],
             [
              0.6666666666666666,
              "#ed7953"
             ],
             [
              0.7777777777777778,
              "#fb9f3a"
             ],
             [
              0.8888888888888888,
              "#fdca26"
             ],
             [
              1,
              "#f0f921"
             ]
            ],
            "type": "heatmap"
           }
          ],
          "heatmapgl": [
           {
            "colorbar": {
             "outlinewidth": 0,
             "ticks": ""
            },
            "colorscale": [
             [
              0,
              "#0d0887"
             ],
             [
              0.1111111111111111,
              "#46039f"
             ],
             [
              0.2222222222222222,
              "#7201a8"
             ],
             [
              0.3333333333333333,
              "#9c179e"
             ],
             [
              0.4444444444444444,
              "#bd3786"
             ],
             [
              0.5555555555555556,
              "#d8576b"
             ],
             [
              0.6666666666666666,
              "#ed7953"
             ],
             [
              0.7777777777777778,
              "#fb9f3a"
             ],
             [
              0.8888888888888888,
              "#fdca26"
             ],
             [
              1,
              "#f0f921"
             ]
            ],
            "type": "heatmapgl"
           }
          ],
          "histogram": [
           {
            "marker": {
             "pattern": {
              "fillmode": "overlay",
              "size": 10,
              "solidity": 0.2
             }
            },
            "type": "histogram"
           }
          ],
          "histogram2d": [
           {
            "colorbar": {
             "outlinewidth": 0,
             "ticks": ""
            },
            "colorscale": [
             [
              0,
              "#0d0887"
             ],
             [
              0.1111111111111111,
              "#46039f"
             ],
             [
              0.2222222222222222,
              "#7201a8"
             ],
             [
              0.3333333333333333,
              "#9c179e"
             ],
             [
              0.4444444444444444,
              "#bd3786"
             ],
             [
              0.5555555555555556,
              "#d8576b"
             ],
             [
              0.6666666666666666,
              "#ed7953"
             ],
             [
              0.7777777777777778,
              "#fb9f3a"
             ],
             [
              0.8888888888888888,
              "#fdca26"
             ],
             [
              1,
              "#f0f921"
             ]
            ],
            "type": "histogram2d"
           }
          ],
          "histogram2dcontour": [
           {
            "colorbar": {
             "outlinewidth": 0,
             "ticks": ""
            },
            "colorscale": [
             [
              0,
              "#0d0887"
             ],
             [
              0.1111111111111111,
              "#46039f"
             ],
             [
              0.2222222222222222,
              "#7201a8"
             ],
             [
              0.3333333333333333,
              "#9c179e"
             ],
             [
              0.4444444444444444,
              "#bd3786"
             ],
             [
              0.5555555555555556,
              "#d8576b"
             ],
             [
              0.6666666666666666,
              "#ed7953"
             ],
             [
              0.7777777777777778,
              "#fb9f3a"
             ],
             [
              0.8888888888888888,
              "#fdca26"
             ],
             [
              1,
              "#f0f921"
             ]
            ],
            "type": "histogram2dcontour"
           }
          ],
          "mesh3d": [
           {
            "colorbar": {
             "outlinewidth": 0,
             "ticks": ""
            },
            "type": "mesh3d"
           }
          ],
          "parcoords": [
           {
            "line": {
             "colorbar": {
              "outlinewidth": 0,
              "ticks": ""
             }
            },
            "type": "parcoords"
           }
          ],
          "pie": [
           {
            "automargin": true,
            "type": "pie"
           }
          ],
          "scatter": [
           {
            "fillpattern": {
             "fillmode": "overlay",
             "size": 10,
             "solidity": 0.2
            },
            "type": "scatter"
           }
          ],
          "scatter3d": [
           {
            "line": {
             "colorbar": {
              "outlinewidth": 0,
              "ticks": ""
             }
            },
            "marker": {
             "colorbar": {
              "outlinewidth": 0,
              "ticks": ""
             }
            },
            "type": "scatter3d"
           }
          ],
          "scattercarpet": [
           {
            "marker": {
             "colorbar": {
              "outlinewidth": 0,
              "ticks": ""
             }
            },
            "type": "scattercarpet"
           }
          ],
          "scattergeo": [
           {
            "marker": {
             "colorbar": {
              "outlinewidth": 0,
              "ticks": ""
             }
            },
            "type": "scattergeo"
           }
          ],
          "scattergl": [
           {
            "marker": {
             "colorbar": {
              "outlinewidth": 0,
              "ticks": ""
             }
            },
            "type": "scattergl"
           }
          ],
          "scattermapbox": [
           {
            "marker": {
             "colorbar": {
              "outlinewidth": 0,
              "ticks": ""
             }
            },
            "type": "scattermapbox"
           }
          ],
          "scatterpolar": [
           {
            "marker": {
             "colorbar": {
              "outlinewidth": 0,
              "ticks": ""
             }
            },
            "type": "scatterpolar"
           }
          ],
          "scatterpolargl": [
           {
            "marker": {
             "colorbar": {
              "outlinewidth": 0,
              "ticks": ""
             }
            },
            "type": "scatterpolargl"
           }
          ],
          "scatterternary": [
           {
            "marker": {
             "colorbar": {
              "outlinewidth": 0,
              "ticks": ""
             }
            },
            "type": "scatterternary"
           }
          ],
          "surface": [
           {
            "colorbar": {
             "outlinewidth": 0,
             "ticks": ""
            },
            "colorscale": [
             [
              0,
              "#0d0887"
             ],
             [
              0.1111111111111111,
              "#46039f"
             ],
             [
              0.2222222222222222,
              "#7201a8"
             ],
             [
              0.3333333333333333,
              "#9c179e"
             ],
             [
              0.4444444444444444,
              "#bd3786"
             ],
             [
              0.5555555555555556,
              "#d8576b"
             ],
             [
              0.6666666666666666,
              "#ed7953"
             ],
             [
              0.7777777777777778,
              "#fb9f3a"
             ],
             [
              0.8888888888888888,
              "#fdca26"
             ],
             [
              1,
              "#f0f921"
             ]
            ],
            "type": "surface"
           }
          ],
          "table": [
           {
            "cells": {
             "fill": {
              "color": "#EBF0F8"
             },
             "line": {
              "color": "white"
             }
            },
            "header": {
             "fill": {
              "color": "#C8D4E3"
             },
             "line": {
              "color": "white"
             }
            },
            "type": "table"
           }
          ]
         },
         "layout": {
          "annotationdefaults": {
           "arrowcolor": "#2a3f5f",
           "arrowhead": 0,
           "arrowwidth": 1
          },
          "autotypenumbers": "strict",
          "coloraxis": {
           "colorbar": {
            "outlinewidth": 0,
            "ticks": ""
           }
          },
          "colorscale": {
           "diverging": [
            [
             0,
             "#8e0152"
            ],
            [
             0.1,
             "#c51b7d"
            ],
            [
             0.2,
             "#de77ae"
            ],
            [
             0.3,
             "#f1b6da"
            ],
            [
             0.4,
             "#fde0ef"
            ],
            [
             0.5,
             "#f7f7f7"
            ],
            [
             0.6,
             "#e6f5d0"
            ],
            [
             0.7,
             "#b8e186"
            ],
            [
             0.8,
             "#7fbc41"
            ],
            [
             0.9,
             "#4d9221"
            ],
            [
             1,
             "#276419"
            ]
           ],
           "sequential": [
            [
             0,
             "#0d0887"
            ],
            [
             0.1111111111111111,
             "#46039f"
            ],
            [
             0.2222222222222222,
             "#7201a8"
            ],
            [
             0.3333333333333333,
             "#9c179e"
            ],
            [
             0.4444444444444444,
             "#bd3786"
            ],
            [
             0.5555555555555556,
             "#d8576b"
            ],
            [
             0.6666666666666666,
             "#ed7953"
            ],
            [
             0.7777777777777778,
             "#fb9f3a"
            ],
            [
             0.8888888888888888,
             "#fdca26"
            ],
            [
             1,
             "#f0f921"
            ]
           ],
           "sequentialminus": [
            [
             0,
             "#0d0887"
            ],
            [
             0.1111111111111111,
             "#46039f"
            ],
            [
             0.2222222222222222,
             "#7201a8"
            ],
            [
             0.3333333333333333,
             "#9c179e"
            ],
            [
             0.4444444444444444,
             "#bd3786"
            ],
            [
             0.5555555555555556,
             "#d8576b"
            ],
            [
             0.6666666666666666,
             "#ed7953"
            ],
            [
             0.7777777777777778,
             "#fb9f3a"
            ],
            [
             0.8888888888888888,
             "#fdca26"
            ],
            [
             1,
             "#f0f921"
            ]
           ]
          },
          "colorway": [
           "#636efa",
           "#EF553B",
           "#00cc96",
           "#ab63fa",
           "#FFA15A",
           "#19d3f3",
           "#FF6692",
           "#B6E880",
           "#FF97FF",
           "#FECB52"
          ],
          "font": {
           "color": "#2a3f5f"
          },
          "geo": {
           "bgcolor": "white",
           "lakecolor": "white",
           "landcolor": "#E5ECF6",
           "showlakes": true,
           "showland": true,
           "subunitcolor": "white"
          },
          "hoverlabel": {
           "align": "left"
          },
          "hovermode": "closest",
          "mapbox": {
           "style": "light"
          },
          "paper_bgcolor": "white",
          "plot_bgcolor": "#E5ECF6",
          "polar": {
           "angularaxis": {
            "gridcolor": "white",
            "linecolor": "white",
            "ticks": ""
           },
           "bgcolor": "#E5ECF6",
           "radialaxis": {
            "gridcolor": "white",
            "linecolor": "white",
            "ticks": ""
           }
          },
          "scene": {
           "xaxis": {
            "backgroundcolor": "#E5ECF6",
            "gridcolor": "white",
            "gridwidth": 2,
            "linecolor": "white",
            "showbackground": true,
            "ticks": "",
            "zerolinecolor": "white"
           },
           "yaxis": {
            "backgroundcolor": "#E5ECF6",
            "gridcolor": "white",
            "gridwidth": 2,
            "linecolor": "white",
            "showbackground": true,
            "ticks": "",
            "zerolinecolor": "white"
           },
           "zaxis": {
            "backgroundcolor": "#E5ECF6",
            "gridcolor": "white",
            "gridwidth": 2,
            "linecolor": "white",
            "showbackground": true,
            "ticks": "",
            "zerolinecolor": "white"
           }
          },
          "shapedefaults": {
           "line": {
            "color": "#2a3f5f"
           }
          },
          "ternary": {
           "aaxis": {
            "gridcolor": "white",
            "linecolor": "white",
            "ticks": ""
           },
           "baxis": {
            "gridcolor": "white",
            "linecolor": "white",
            "ticks": ""
           },
           "bgcolor": "#E5ECF6",
           "caxis": {
            "gridcolor": "white",
            "linecolor": "white",
            "ticks": ""
           }
          },
          "title": {
           "x": 0.05
          },
          "xaxis": {
           "automargin": true,
           "gridcolor": "white",
           "linecolor": "white",
           "ticks": "",
           "title": {
            "standoff": 15
           },
           "zerolinecolor": "white",
           "zerolinewidth": 2
          },
          "yaxis": {
           "automargin": true,
           "gridcolor": "white",
           "linecolor": "white",
           "ticks": "",
           "title": {
            "standoff": 15
           },
           "zerolinecolor": "white",
           "zerolinewidth": 2
          }
         }
        },
        "xaxis": {
         "anchor": "y",
         "domain": [
          0,
          1
         ],
         "title": {
          "text": "Tags"
         }
        },
        "yaxis": {
         "anchor": "x",
         "domain": [
          0,
          1
         ],
         "title": {
          "text": "Frequencies"
         }
        }
       }
      }
     },
     "metadata": {},
     "output_type": "display_data"
    },
    {
     "name": "stdout",
     "output_type": "stream",
     "text": [
      "('Blockchain', 'Data Science', 'Technology', 'Programming', 'Poetry', 'Politics', 'Bitcoin', 'Machine Learning', 'Cryptocurrency', 'Writing', 'Startup', 'Life', 'Covid 19', 'Life Lessons', 'Python', 'Software Development', 'Self Improvement', 'Love', 'Business', 'JavaScript', 'Culture', 'Design', 'Artificial Intelligence', 'Relationships', 'Web Development', 'Health', 'Self', 'Mental Health', 'Entrepreneurship', 'Education', 'Ethereum', 'Marketing', 'History', 'Social Media', 'Music', 'Creativity', 'Humor', 'Psychology', 'Travel', 'Productivity', 'Parenting', 'Science', 'UX', 'Fiction', 'Coronavirus', 'Data Visualization', 'Digital Marketing', 'Art', 'Work', 'Family')\n"
     ]
    }
   ],
   "source": [
    "from collections import Counter\n",
    "import plotly.express as px\n",
    "import ast  # Use this to safely evaluate strings to lists\n",
    "\n",
    "# Convert 'tags' column to lists\n",
    "df[\"tags\"] = df[\"tags\"].apply(\n",
    "    lambda x: ast.literal_eval(x) if isinstance(x, str) else x\n",
    ")\n",
    "\n",
    "# Flatten the list of tags and count their occurrences\n",
    "all_tags = [tag for tags_list in df[\"tags\"] for tag in tags_list]\n",
    "d_tags_counter = Counter(all_tags)\n",
    "\n",
    "# Get the top 50 tags and their frequencies\n",
    "tags, frequencies = list(zip(*d_tags_counter.most_common(50)))\n",
    "\n",
    "# Plot the bar chart\n",
    "fig = px.bar(x=tags, y=frequencies)\n",
    "fig.update_xaxes(title=\"Tags\")\n",
    "fig.update_yaxes(title=\"Frequencies\")\n",
    "fig.show()\n",
    "\n",
    "# Print the top 50 tags\n",
    "print(tags)"
   ]
  },
  {
   "cell_type": "code",
   "execution_count": 13,
   "metadata": {},
   "outputs": [],
   "source": [
    "import pickle\n",
    "\n",
    "# Save the DataFrame to a pickle file\n",
    "with open('df.pkl', 'wb') as f:\n",
    "    pickle.dump(df, f)\n"
   ]
  }
 ],
 "metadata": {
  "kernelspec": {
   "display_name": "ml-project",
   "language": "python",
   "name": "python3"
  },
  "language_info": {
   "codemirror_mode": {
    "name": "ipython",
    "version": 3
   },
   "file_extension": ".py",
   "mimetype": "text/x-python",
   "name": "python",
   "nbconvert_exporter": "python",
   "pygments_lexer": "ipython3",
   "version": "3.10.15"
  }
 },
 "nbformat": 4,
 "nbformat_minor": 2
}
