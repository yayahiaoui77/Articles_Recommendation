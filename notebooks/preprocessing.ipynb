{
 "cells": [
  {
   "cell_type": "code",
   "execution_count": 1,
   "metadata": {},
   "outputs": [],
   "source": [
    "import pickle\n",
    "\n",
    "# Load the DataFrame from the pickle file\n",
    "with open('df.pkl', 'rb') as f:\n",
    "    df = pickle.load(f)\n",
    "\n"
   ]
  },
  {
   "cell_type": "code",
   "execution_count": 2,
   "metadata": {},
   "outputs": [],
   "source": [
    "most_used_tags = [\n",
    "    'Blockchain', 'Data Science', 'Technology', 'Programming', 'Poetry', 'Politics',\n",
    "    'Bitcoin', 'Machine Learning', 'Cryptocurrency', 'Writing', 'Startup', 'Life',\n",
    "    'Covid 19', 'Life Lessons', 'Python', 'Software Development', 'Self Improvement',\n",
    "    'Love', 'Business', 'JavaScript', 'Culture', 'Design', 'Artificial Intelligence',\n",
    "    'Relationships', 'Web Development', 'Health', 'Self', 'Mental Health',\n",
    "    'Entrepreneurship', 'Education', 'Ethereum', 'Marketing', 'History', \n",
    "    'Social Media', 'Music', 'Creativity', 'Humor', 'Psychology', 'Travel',\n",
    "    'Productivity', 'Parenting', 'Science', 'UX', 'Fiction', 'Coronavirus',\n",
    "    'Data Visualization', 'Digital Marketing', 'Art', 'Work', 'Family'\n",
    "]"
   ]
  },
  {
   "cell_type": "code",
   "execution_count": 3,
   "metadata": {},
   "outputs": [],
   "source": [
    "import ast\n",
    "\n",
    "\n",
    "# Step 2: Filter tags to keep only those in target_tags\n",
    "df['tags'] = df['tags'].apply(lambda tag_list: [tag for tag in tag_list if tag in most_used_tags])\n",
    "\n",
    "# Step 3: Ensure tags are now a simple list of strings (no nested lists)\n",
    "df['tags'] = df['tags'].apply(lambda tag_list: ', '.join(tag_list) if tag_list else '')"
   ]
  },
  {
   "cell_type": "code",
   "execution_count": 4,
   "metadata": {},
   "outputs": [
    {
     "data": {
      "text/plain": [
       "(2180, 3)"
      ]
     },
     "execution_count": 4,
     "metadata": {},
     "output_type": "execute_result"
    }
   ],
   "source": [
    "df = df[df['tags'].apply(lambda x: len(x) > 0)]\n",
    "df.shape"
   ]
  },
  {
   "cell_type": "code",
   "execution_count": 5,
   "metadata": {},
   "outputs": [
    {
     "data": {
      "text/html": [
       "<div>\n",
       "<style scoped>\n",
       "    .dataframe tbody tr th:only-of-type {\n",
       "        vertical-align: middle;\n",
       "    }\n",
       "\n",
       "    .dataframe tbody tr th {\n",
       "        vertical-align: top;\n",
       "    }\n",
       "\n",
       "    .dataframe thead th {\n",
       "        text-align: right;\n",
       "    }\n",
       "</style>\n",
       "<table border=\"1\" class=\"dataframe\">\n",
       "  <thead>\n",
       "    <tr style=\"text-align: right;\">\n",
       "      <th></th>\n",
       "      <th>title</th>\n",
       "      <th>text</th>\n",
       "      <th>tags</th>\n",
       "    </tr>\n",
       "  </thead>\n",
       "  <tbody>\n",
       "    <tr>\n",
       "      <th>0</th>\n",
       "      <td>Introduction to music information retrieval wi...</td>\n",
       "      <td>In this article, I am going to illustrate some...</td>\n",
       "      <td>Music</td>\n",
       "    </tr>\n",
       "    <tr>\n",
       "      <th>2</th>\n",
       "      <td>How Twitter does Automated Testing</td>\n",
       "      <td>It was 8:00 AM and I entered the Zoom call. Ka...</td>\n",
       "      <td>Web Development, Software Development</td>\n",
       "    </tr>\n",
       "    <tr>\n",
       "      <th>5</th>\n",
       "      <td>Why you should start using short URLs in your ...</td>\n",
       "      <td>Photo by Luke Chesser on Unsplash\\r\\n\\r\\nWhen ...</td>\n",
       "      <td>Programming</td>\n",
       "    </tr>\n",
       "    <tr>\n",
       "      <th>7</th>\n",
       "      <td>Why music isn’t a top-two category on Patreon ...</td>\n",
       "      <td>Cherie Hu: Hey, Wyatt, thanks so much for join...</td>\n",
       "      <td>Business, Startup, Music, Technology</td>\n",
       "    </tr>\n",
       "    <tr>\n",
       "      <th>10</th>\n",
       "      <td>Love Not Fear: Freedom of Speech</td>\n",
       "      <td>I saw an article about a popular video platfor...</td>\n",
       "      <td>Love</td>\n",
       "    </tr>\n",
       "  </tbody>\n",
       "</table>\n",
       "</div>"
      ],
      "text/plain": [
       "                                                title  \\\n",
       "0   Introduction to music information retrieval wi...   \n",
       "2                  How Twitter does Automated Testing   \n",
       "5   Why you should start using short URLs in your ...   \n",
       "7   Why music isn’t a top-two category on Patreon ...   \n",
       "10                   Love Not Fear: Freedom of Speech   \n",
       "\n",
       "                                                 text  \\\n",
       "0   In this article, I am going to illustrate some...   \n",
       "2   It was 8:00 AM and I entered the Zoom call. Ka...   \n",
       "5   Photo by Luke Chesser on Unsplash\\r\\n\\r\\nWhen ...   \n",
       "7   Cherie Hu: Hey, Wyatt, thanks so much for join...   \n",
       "10  I saw an article about a popular video platfor...   \n",
       "\n",
       "                                     tags  \n",
       "0                                   Music  \n",
       "2   Web Development, Software Development  \n",
       "5                             Programming  \n",
       "7    Business, Startup, Music, Technology  \n",
       "10                                   Love  "
      ]
     },
     "execution_count": 5,
     "metadata": {},
     "output_type": "execute_result"
    }
   ],
   "source": [
    "df.head()"
   ]
  },
  {
   "cell_type": "code",
   "execution_count": 6,
   "metadata": {},
   "outputs": [],
   "source": [
    "df.to_csv('prep_dataset.csv', index=False)"
   ]
  }
 ],
 "metadata": {
  "kernelspec": {
   "display_name": "ml-project",
   "language": "python",
   "name": "python3"
  },
  "language_info": {
   "codemirror_mode": {
    "name": "ipython",
    "version": 3
   },
   "file_extension": ".py",
   "mimetype": "text/x-python",
   "name": "python",
   "nbconvert_exporter": "python",
   "pygments_lexer": "ipython3",
   "version": "3.10.15"
  }
 },
 "nbformat": 4,
 "nbformat_minor": 2
}
