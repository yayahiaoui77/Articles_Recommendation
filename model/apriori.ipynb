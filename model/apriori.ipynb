{
 "cells": [
  {
   "cell_type": "code",
   "execution_count": 6,
   "metadata": {},
   "outputs": [],
   "source": [
    "from mlxtend.preprocessing import TransactionEncoder\n",
    "from mlxtend.frequent_patterns import apriori, association_rules\n",
    "import pandas as pd"
   ]
  },
  {
   "cell_type": "code",
   "execution_count": 7,
   "metadata": {},
   "outputs": [
    {
     "data": {
      "text/html": [
       "<div>\n",
       "<style scoped>\n",
       "    .dataframe tbody tr th:only-of-type {\n",
       "        vertical-align: middle;\n",
       "    }\n",
       "\n",
       "    .dataframe tbody tr th {\n",
       "        vertical-align: top;\n",
       "    }\n",
       "\n",
       "    .dataframe thead th {\n",
       "        text-align: right;\n",
       "    }\n",
       "</style>\n",
       "<table border=\"1\" class=\"dataframe\">\n",
       "  <thead>\n",
       "    <tr style=\"text-align: right;\">\n",
       "      <th></th>\n",
       "      <th>title</th>\n",
       "      <th>text</th>\n",
       "      <th>tags</th>\n",
       "    </tr>\n",
       "  </thead>\n",
       "  <tbody>\n",
       "    <tr>\n",
       "      <th>0</th>\n",
       "      <td>Introduction to music information retrieval wi...</td>\n",
       "      <td>In this article, I am going to illustrate some...</td>\n",
       "      <td>Music</td>\n",
       "    </tr>\n",
       "    <tr>\n",
       "      <th>1</th>\n",
       "      <td>How Twitter does Automated Testing</td>\n",
       "      <td>It was 8:00 AM and I entered the Zoom call. Ka...</td>\n",
       "      <td>Web Development, Software Development</td>\n",
       "    </tr>\n",
       "    <tr>\n",
       "      <th>2</th>\n",
       "      <td>Why you should start using short URLs in your ...</td>\n",
       "      <td>Photo by Luke Chesser on Unsplash\\r\\n\\r\\nWhen ...</td>\n",
       "      <td>Programming</td>\n",
       "    </tr>\n",
       "    <tr>\n",
       "      <th>3</th>\n",
       "      <td>Why music isn’t a top-two category on Patreon ...</td>\n",
       "      <td>Cherie Hu: Hey, Wyatt, thanks so much for join...</td>\n",
       "      <td>Business, Startup, Music, Technology</td>\n",
       "    </tr>\n",
       "    <tr>\n",
       "      <th>4</th>\n",
       "      <td>Love Not Fear: Freedom of Speech</td>\n",
       "      <td>I saw an article about a popular video platfor...</td>\n",
       "      <td>Love</td>\n",
       "    </tr>\n",
       "  </tbody>\n",
       "</table>\n",
       "</div>"
      ],
      "text/plain": [
       "                                               title  \\\n",
       "0  Introduction to music information retrieval wi...   \n",
       "1                 How Twitter does Automated Testing   \n",
       "2  Why you should start using short URLs in your ...   \n",
       "3  Why music isn’t a top-two category on Patreon ...   \n",
       "4                   Love Not Fear: Freedom of Speech   \n",
       "\n",
       "                                                text  \\\n",
       "0  In this article, I am going to illustrate some...   \n",
       "1  It was 8:00 AM and I entered the Zoom call. Ka...   \n",
       "2  Photo by Luke Chesser on Unsplash\\r\\n\\r\\nWhen ...   \n",
       "3  Cherie Hu: Hey, Wyatt, thanks so much for join...   \n",
       "4  I saw an article about a popular video platfor...   \n",
       "\n",
       "                                    tags  \n",
       "0                                  Music  \n",
       "1  Web Development, Software Development  \n",
       "2                            Programming  \n",
       "3   Business, Startup, Music, Technology  \n",
       "4                                   Love  "
      ]
     },
     "execution_count": 7,
     "metadata": {},
     "output_type": "execute_result"
    }
   ],
   "source": [
    "\n",
    "# Load the CSV into a DataFrame\n",
    "df = pd.read_csv('../data/prep_dataset.csv')\n",
    "df.head()\n"
   ]
  },
  {
   "cell_type": "code",
   "execution_count": 8,
   "metadata": {},
   "outputs": [
    {
     "name": "stdout",
     "output_type": "stream",
     "text": [
      "0                                      [Music]\n",
      "1     [Web Development,  Software Development]\n",
      "2                                [Programming]\n",
      "3    [Business,  Startup,  Music,  Technology]\n",
      "4                                       [Love]\n",
      "Name: tags, dtype: object\n"
     ]
    }
   ],
   "source": [
    "df['tags'] = df['tags'].apply(lambda x: x.split(','))\n",
    "print(df['tags'].head())"
   ]
  },
  {
   "cell_type": "code",
   "execution_count": 9,
   "metadata": {},
   "outputs": [],
   "source": [
    "\n",
    "def recommend_tags(user_tags, df, num_recommendations=10, min_support=0.001):\n",
    "    # Step 1: Prepare the dataset\n",
    "    # Convert articles' tags to a one-hot encoded dataframe for apriori algorithm\n",
    "    transactions = df['tags'].tolist()\n",
    "    te = TransactionEncoder()\n",
    "    te_ary = te.fit_transform(transactions)\n",
    "    transaction_df = pd.DataFrame(te_ary, columns=te.columns_)\n",
    "    \n",
    "    # Step 2: Apply Apriori algorithm to find frequent itemsets\n",
    "    frequent_itemsets = apriori(transaction_df, min_support=min_support, use_colnames=True)    \n",
    "    \n",
    "    # Step 3: Generate association rules from frequent itemsets\n",
    "    num_itemsets = frequent_itemsets.shape[0]\n",
    "    rules = association_rules(frequent_itemsets, num_itemsets=num_itemsets, metric=\"support\", min_threshold=min_support)\n",
    "\n",
    "    # Step 4: Filter rules where antecedents overlap with user's tags\n",
    "    relevant_rules = rules[rules['antecedents'].apply(lambda x: len(x.intersection(user_tags)) > 0)]\n",
    "    \n",
    "    # Step 5: Get unique consequents (recommended tags), sorted by support\n",
    "    recommendations = relevant_rules[['consequents', 'support']].sort_values(by='support', ascending=False)\n",
    "    recommended_tags = set()\n",
    "    \n",
    "    for _, row in recommendations.iterrows():\n",
    "        recommended_tags.update(row['consequents'])\n",
    "        if len(recommended_tags) >= num_recommendations:\n",
    "            break\n",
    "    \n",
    "    # Step 6: Include user tags in the recommended tags\n",
    "    recommended_tags.update(user_tags)\n",
    "    \n",
    "    # Step 7: Return top recommendations (limited to num_recommendations)\n",
    "    return list(recommended_tags)[:num_recommendations]\n"
   ]
  },
  {
   "cell_type": "code",
   "execution_count": 10,
   "metadata": {},
   "outputs": [
    {
     "name": "stdout",
     "output_type": "stream",
     "text": [
      "\n",
      "User's Chosen Tags: {'Programming', 'AI'}\n",
      "Recommended Tags: [' JavaScript', ' Python', ' Startup', 'Programming', ' Machine Learning', 'AI', ' Data Science', ' Web Development', ' Software Development']\n"
     ]
    }
   ],
   "source": [
    "# Example: User selects some tags\n",
    "user_tags = {'AI', 'Programming'}\n",
    "recommended_tags = recommend_tags(user_tags,df)\n",
    "print(\"\\nUser's Chosen Tags:\", user_tags)\n",
    "print(\"Recommended Tags:\", recommended_tags)"
   ]
  }
 ],
 "metadata": {
  "kernelspec": {
   "display_name": "ml-project",
   "language": "python",
   "name": "python3"
  },
  "language_info": {
   "codemirror_mode": {
    "name": "ipython",
    "version": 3
   },
   "file_extension": ".py",
   "mimetype": "text/x-python",
   "name": "python",
   "nbconvert_exporter": "python",
   "pygments_lexer": "ipython3",
   "version": "3.10.15"
  }
 },
 "nbformat": 4,
 "nbformat_minor": 2
}
